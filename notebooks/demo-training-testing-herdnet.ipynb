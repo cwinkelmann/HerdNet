{
 "cells": [
  {
   "cell_type": "markdown",
   "metadata": {
    "id": "tOMmy2YvTHSy"
   },
   "source": [
    "# DEMO - Training and testing HerdNet on nadir aerial images"
   ]
  },
  {
   "cell_type": "markdown",
   "metadata": {
    "id": "_XTpIbRwT9PO"
   },
   "source": [
    "## Installations"
   ]
  },
  {
   "cell_type": "code",
   "execution_count": 1,
   "metadata": {
    "id": "9v5ab5BbSrVl",
    "ExecuteTime": {
     "end_time": "2024-08-13T14:42:32.723954Z",
     "start_time": "2024-08-13T14:42:32.721913Z"
    }
   },
   "outputs": [],
   "source": [
    "# Check GPU\n",
    "# !nvidia-smi"
   ]
  },
  {
   "cell_type": "code",
   "execution_count": 2,
   "metadata": {
    "id": "z9RVoQx5UOkg",
    "ExecuteTime": {
     "end_time": "2024-08-13T14:42:32.726561Z",
     "start_time": "2024-08-13T14:42:32.724871Z"
    }
   },
   "outputs": [],
   "source": [
    "# # Install the dependencies\n",
    "# !pip install albumentations==1.0.3\n",
    "# !pip install fiftyone==0.14.3\n",
    "# !pip install hydra-core==1.1.0\n",
    "# !pip install opencv-python==4.5.1.48\n",
    "# !pip install pandas==1.2.3\n",
    "# !pip install pillow==8.2.0\n",
    "# !pip install scikit-image==0.18.1\n",
    "# !pip install scikit-learn==1.0.2\n",
    "# !pip install scipy==1.6.2\n",
    "# !pip install wandb==0.10.33"
   ]
  },
  {
   "cell_type": "code",
   "execution_count": 3,
   "metadata": {
    "id": "oJydpjxoUGAC",
    "ExecuteTime": {
     "end_time": "2024-08-13T14:42:32.730073Z",
     "start_time": "2024-08-13T14:42:32.727108Z"
    }
   },
   "outputs": [],
   "source": [
    "# Download and install the code\n",
    "import sys\n",
    "# \n",
    "# !git clone https://github.com/Alexandre-Delplanque/HerdNet\n",
    "# !cd '/content/HerdNet' && python setup.py install\n",
    "# \n",
    "# sys.path.append('/content/HerdNet')"
   ]
  },
  {
   "cell_type": "markdown",
   "metadata": {
    "id": "cuxaC9qGVk5S"
   },
   "source": [
    "## Create datasets"
   ]
  },
  {
   "cell_type": "code",
   "execution_count": 4,
   "metadata": {
    "id": "0yt06VTPVtsq",
    "ExecuteTime": {
     "end_time": "2024-08-13T14:42:32.732779Z",
     "start_time": "2024-08-13T14:42:32.731285Z"
    }
   },
   "outputs": [],
   "source": [
    "# Download some of the data of Delplanque et al. (2021) as an example\n",
    "# !gdown 1CcTAZZJdwrBfCPJtVH6VBU3luGKIN9st -O ./data/data.zip\n",
    "# !unzip -oq \"/Users/christian/Library/CloudStorage/GoogleDrive-christian.winkelmann@gmail.com/My Drive/Datasets/HerdNet/data.zip\" -d ../"
   ]
  },
  {
   "cell_type": "code",
   "execution_count": 5,
   "metadata": {
    "id": "y1n_cQLFYBsJ",
    "ExecuteTime": {
     "end_time": "2024-08-13T14:42:35.532665Z",
     "start_time": "2024-08-13T14:42:32.733478Z"
    }
   },
   "outputs": [
    {
     "name": "stderr",
     "output_type": "stream",
     "text": [
      "/Users/christian/opt/anaconda3/envs/HerdNet310_2/lib/python3.10/site-packages/tqdm/auto.py:21: TqdmWarning: IProgress not found. Please update jupyter and ipywidgets. See https://ipywidgets.readthedocs.io/en/stable/user_install.html\n",
      "  from .autonotebook import tqdm as notebook_tqdm\n"
     ]
    }
   ],
   "source": [
    "# Set the seed\n",
    "from animaloc.utils.seed import set_seed\n",
    "\n",
    "set_seed(9292)"
   ]
  },
  {
   "cell_type": "code",
   "execution_count": 6,
   "metadata": {
    "id": "9tGqtLNG21Jf",
    "ExecuteTime": {
     "end_time": "2024-08-13T14:44:15.785631Z",
     "start_time": "2024-08-13T14:42:35.533605Z"
    }
   },
   "outputs": [
    {
     "name": "stdout",
     "output_type": "stream",
     "text": [
      "Creating the buffer: 100%|████████████████████| 111/111 [00:23<00:00,  4.82it/s]\r\n",
      "Exporting patches: 100%|██████████████████████| 111/111 [01:15<00:00,  1.48it/s]\r\n"
     ]
    }
   ],
   "source": [
    "# Create validation patches using the patcher tool (for demo)\n",
    "from animaloc.utils.useful_funcs import mkdir\n",
    "\n",
    "mkdir('../data/val_patches')\n",
    "!python ../tools/patcher.py ../data/val 512 512 0 ../data/val_patches -csv ../data/val.csv -min 0.0 -all False"
   ]
  },
  {
   "cell_type": "code",
   "execution_count": 7,
   "metadata": {
    "id": "Bwp4XPR8YNMR",
    "ExecuteTime": {
     "end_time": "2024-08-13T14:44:16.099717Z",
     "start_time": "2024-08-13T14:44:15.786648Z"
    }
   },
   "outputs": [],
   "source": [
    "# Training, validation and test datasets\n",
    "import albumentations as A\n",
    "\n",
    "from animaloc.datasets import CSVDataset\n",
    "from animaloc.data.transforms import MultiTransformsWrapper, DownSample, PointsToMask, FIDT\n",
    "\n",
    "patch_size = 512\n",
    "num_classes = 7\n",
    "down_ratio = 2\n",
    "\n",
    "train_dataset = CSVDataset(\n",
    "    csv_file = '../data/train_patches.csv',\n",
    "    root_dir = '../data/train_patches',\n",
    "    albu_transforms = [\n",
    "        A.VerticalFlip(p=0.5), \n",
    "        A.HorizontalFlip(p=0.5),\n",
    "        A.RandomRotate90(p=0.5),\n",
    "        A.RandomBrightnessContrast(brightness_limit=0.2, contrast_limit=0.2, p=0.2),\n",
    "        A.Blur(blur_limit=15, p=0.2),\n",
    "        A.Normalize(p=1.0)\n",
    "        ],\n",
    "    end_transforms = [MultiTransformsWrapper([\n",
    "        FIDT(num_classes=num_classes, down_ratio=down_ratio),\n",
    "        PointsToMask(radius=2, num_classes=num_classes, squeeze=True, down_ratio=int(patch_size//16))\n",
    "        ])]\n",
    "    )\n",
    "\n",
    "val_dataset = CSVDataset(\n",
    "    csv_file = '../data/val_patches/gt.csv',\n",
    "    root_dir = '../data/val_patches',\n",
    "    albu_transforms = [A.Normalize(p=1.0)],\n",
    "    end_transforms = [DownSample(down_ratio=down_ratio, anno_type='point')]\n",
    "    )\n",
    "\n",
    "test_dataset = CSVDataset(\n",
    "    csv_file = '../data/test.csv',\n",
    "    root_dir = '../data/test',\n",
    "    albu_transforms = [A.Normalize(p=1.0)],\n",
    "    end_transforms = [DownSample(down_ratio=down_ratio, anno_type='point')]\n",
    "    )"
   ]
  },
  {
   "cell_type": "code",
   "execution_count": 8,
   "metadata": {
    "id": "lR1W5NVFYhiZ",
    "ExecuteTime": {
     "end_time": "2024-08-13T14:44:16.103117Z",
     "start_time": "2024-08-13T14:44:16.100438Z"
    }
   },
   "outputs": [],
   "source": [
    "# Dataloaders\n",
    "from torch.utils.data import DataLoader\n",
    "\n",
    "train_dataloader = DataLoader(dataset = train_dataset, batch_size = 4, shuffle = True)\n",
    "\n",
    "val_dataloader = DataLoader(dataset = val_dataset, batch_size = 1, shuffle = False)\n",
    "\n",
    "test_dataloader = DataLoader(dataset = test_dataset, batch_size = 1, shuffle = False)"
   ]
  },
  {
   "cell_type": "markdown",
   "metadata": {
    "id": "emWQUMq2Vwpj"
   },
   "source": [
    "## Define HerdNet for training"
   ]
  },
  {
   "cell_type": "code",
   "execution_count": 11,
   "metadata": {
    "id": "JIBKygFlV0V1",
    "ExecuteTime": {
     "end_time": "2024-08-14T07:07:25.530552Z",
     "start_time": "2024-08-14T07:07:25.246490Z"
    }
   },
   "outputs": [],
   "source": [
    "from animaloc.models import HerdNet\n",
    "from torch import Tensor\n",
    "from animaloc.models import LossWrapper\n",
    "from animaloc.train.losses import FocalLoss\n",
    "from torch.nn import CrossEntropyLoss\n",
    "\n",
    "herdnet = HerdNet(num_classes=num_classes, down_ratio=down_ratio)\n",
    "\n",
    "weight = Tensor([0.1, 1.0, 2.0, 1.0, 6.0, 12.0, 1.0])\n",
    "\n",
    "losses = [\n",
    "    {'loss': FocalLoss(reduction='mean'), 'idx': 0, 'idy': 0, 'lambda': 1.0, 'name': 'focal_loss'},\n",
    "    {'loss': CrossEntropyLoss(reduction='mean', weight=weight), 'idx': 1, 'idy': 1, 'lambda': 1.0, 'name': 'ce_loss'}\n",
    "    ]\n",
    "\n",
    "herdnet = LossWrapper(herdnet, losses=losses)"
   ]
  },
  {
   "cell_type": "markdown",
   "metadata": {
    "id": "Nm5u6yg4V78C"
   },
   "source": [
    "## Create the Trainer"
   ]
  },
  {
   "cell_type": "code",
   "execution_count": 12,
   "metadata": {
    "id": "MSBimwtzWDZp",
    "ExecuteTime": {
     "end_time": "2024-08-14T07:07:29.198102Z",
     "start_time": "2024-08-14T07:07:29.098224Z"
    }
   },
   "outputs": [
    {
     "ename": "AssertionError",
     "evalue": "Torch not compiled with CUDA enabled",
     "output_type": "error",
     "traceback": [
      "\u001B[0;31m---------------------------------------------------------------------------\u001B[0m",
      "\u001B[0;31mAssertionError\u001B[0m                            Traceback (most recent call last)",
      "Cell \u001B[0;32mIn[12], line 17\u001B[0m\n\u001B[1;32m     13\u001B[0m optimizer \u001B[38;5;241m=\u001B[39m Adam(params\u001B[38;5;241m=\u001B[39mherdnet\u001B[38;5;241m.\u001B[39mparameters(), lr\u001B[38;5;241m=\u001B[39mlr, weight_decay\u001B[38;5;241m=\u001B[39mweight_decay)\n\u001B[1;32m     15\u001B[0m metrics \u001B[38;5;241m=\u001B[39m PointsMetrics(radius\u001B[38;5;241m=\u001B[39m\u001B[38;5;241m20\u001B[39m, num_classes\u001B[38;5;241m=\u001B[39mnum_classes)\n\u001B[0;32m---> 17\u001B[0m stitcher \u001B[38;5;241m=\u001B[39m \u001B[43mHerdNetStitcher\u001B[49m\u001B[43m(\u001B[49m\n\u001B[1;32m     18\u001B[0m \u001B[43m    \u001B[49m\u001B[43mmodel\u001B[49m\u001B[38;5;241;43m=\u001B[39;49m\u001B[43mherdnet\u001B[49m\u001B[43m,\u001B[49m\u001B[43m \u001B[49m\n\u001B[1;32m     19\u001B[0m \u001B[43m    \u001B[49m\u001B[43msize\u001B[49m\u001B[38;5;241;43m=\u001B[39;49m\u001B[43m(\u001B[49m\u001B[43mpatch_size\u001B[49m\u001B[43m,\u001B[49m\u001B[43mpatch_size\u001B[49m\u001B[43m)\u001B[49m\u001B[43m,\u001B[49m\u001B[43m \u001B[49m\n\u001B[1;32m     20\u001B[0m \u001B[43m    \u001B[49m\u001B[43moverlap\u001B[49m\u001B[38;5;241;43m=\u001B[39;49m\u001B[38;5;241;43m160\u001B[39;49m\u001B[43m,\u001B[49m\u001B[43m \u001B[49m\n\u001B[1;32m     21\u001B[0m \u001B[43m    \u001B[49m\u001B[43mdown_ratio\u001B[49m\u001B[38;5;241;43m=\u001B[39;49m\u001B[43mdown_ratio\u001B[49m\u001B[43m,\u001B[49m\u001B[43m \u001B[49m\n\u001B[1;32m     22\u001B[0m \u001B[43m    \u001B[49m\u001B[43mreduction\u001B[49m\u001B[38;5;241;43m=\u001B[39;49m\u001B[38;5;124;43m'\u001B[39;49m\u001B[38;5;124;43mmean\u001B[39;49m\u001B[38;5;124;43m'\u001B[39;49m\n\u001B[1;32m     23\u001B[0m \u001B[43m    \u001B[49m\u001B[43m)\u001B[49m\n\u001B[1;32m     25\u001B[0m evaluator \u001B[38;5;241m=\u001B[39m HerdNetEvaluator(\n\u001B[1;32m     26\u001B[0m     model\u001B[38;5;241m=\u001B[39mherdnet, \n\u001B[1;32m     27\u001B[0m     dataloader\u001B[38;5;241m=\u001B[39mval_dataloader, \n\u001B[0;32m   (...)\u001B[0m\n\u001B[1;32m     31\u001B[0m     header\u001B[38;5;241m=\u001B[39m\u001B[38;5;124m'\u001B[39m\u001B[38;5;124mvalidation\u001B[39m\u001B[38;5;124m'\u001B[39m\n\u001B[1;32m     32\u001B[0m     )\n\u001B[1;32m     34\u001B[0m trainer \u001B[38;5;241m=\u001B[39m Trainer(\n\u001B[1;32m     35\u001B[0m     model\u001B[38;5;241m=\u001B[39mherdnet,\n\u001B[1;32m     36\u001B[0m     train_dataloader\u001B[38;5;241m=\u001B[39mtrain_dataloader,\n\u001B[0;32m   (...)\u001B[0m\n\u001B[1;32m     40\u001B[0m     work_dir\u001B[38;5;241m=\u001B[39mwork_dir\n\u001B[1;32m     41\u001B[0m     )\n",
      "File \u001B[0;32m~/PycharmProjects/hnee/HerdNet/animaloc/eval/stitchers.py:94\u001B[0m, in \u001B[0;36mStitcher.__init__\u001B[0;34m(self, model, size, overlap, batch_size, down_ratio, up, reduction, device_name)\u001B[0m\n\u001B[1;32m     91\u001B[0m \u001B[38;5;28mself\u001B[39m\u001B[38;5;241m.\u001B[39mreduction \u001B[38;5;241m=\u001B[39m reduction\n\u001B[1;32m     92\u001B[0m \u001B[38;5;28mself\u001B[39m\u001B[38;5;241m.\u001B[39mdevice \u001B[38;5;241m=\u001B[39m torch\u001B[38;5;241m.\u001B[39mdevice(device_name)\n\u001B[0;32m---> 94\u001B[0m \u001B[38;5;28;43mself\u001B[39;49m\u001B[38;5;241;43m.\u001B[39;49m\u001B[43mmodel\u001B[49m\u001B[38;5;241;43m.\u001B[39;49m\u001B[43mto\u001B[49m\u001B[43m(\u001B[49m\u001B[38;5;28;43mself\u001B[39;49m\u001B[38;5;241;43m.\u001B[39;49m\u001B[43mdevice\u001B[49m\u001B[43m)\u001B[49m\n",
      "File \u001B[0;32m~/opt/anaconda3/envs/HerdNet310_2/lib/python3.10/site-packages/torch/nn/modules/module.py:907\u001B[0m, in \u001B[0;36mModule.to\u001B[0;34m(self, *args, **kwargs)\u001B[0m\n\u001B[1;32m    903\u001B[0m         \u001B[38;5;28;01mreturn\u001B[39;00m t\u001B[38;5;241m.\u001B[39mto(device, dtype \u001B[38;5;28;01mif\u001B[39;00m t\u001B[38;5;241m.\u001B[39mis_floating_point() \u001B[38;5;129;01mor\u001B[39;00m t\u001B[38;5;241m.\u001B[39mis_complex() \u001B[38;5;28;01melse\u001B[39;00m \u001B[38;5;28;01mNone\u001B[39;00m,\n\u001B[1;32m    904\u001B[0m                     non_blocking, memory_format\u001B[38;5;241m=\u001B[39mconvert_to_format)\n\u001B[1;32m    905\u001B[0m     \u001B[38;5;28;01mreturn\u001B[39;00m t\u001B[38;5;241m.\u001B[39mto(device, dtype \u001B[38;5;28;01mif\u001B[39;00m t\u001B[38;5;241m.\u001B[39mis_floating_point() \u001B[38;5;129;01mor\u001B[39;00m t\u001B[38;5;241m.\u001B[39mis_complex() \u001B[38;5;28;01melse\u001B[39;00m \u001B[38;5;28;01mNone\u001B[39;00m, non_blocking)\n\u001B[0;32m--> 907\u001B[0m \u001B[38;5;28;01mreturn\u001B[39;00m \u001B[38;5;28;43mself\u001B[39;49m\u001B[38;5;241;43m.\u001B[39;49m\u001B[43m_apply\u001B[49m\u001B[43m(\u001B[49m\u001B[43mconvert\u001B[49m\u001B[43m)\u001B[49m\n",
      "File \u001B[0;32m~/opt/anaconda3/envs/HerdNet310_2/lib/python3.10/site-packages/torch/nn/modules/module.py:578\u001B[0m, in \u001B[0;36mModule._apply\u001B[0;34m(self, fn)\u001B[0m\n\u001B[1;32m    576\u001B[0m \u001B[38;5;28;01mdef\u001B[39;00m \u001B[38;5;21m_apply\u001B[39m(\u001B[38;5;28mself\u001B[39m, fn):\n\u001B[1;32m    577\u001B[0m     \u001B[38;5;28;01mfor\u001B[39;00m module \u001B[38;5;129;01min\u001B[39;00m \u001B[38;5;28mself\u001B[39m\u001B[38;5;241m.\u001B[39mchildren():\n\u001B[0;32m--> 578\u001B[0m         \u001B[43mmodule\u001B[49m\u001B[38;5;241;43m.\u001B[39;49m\u001B[43m_apply\u001B[49m\u001B[43m(\u001B[49m\u001B[43mfn\u001B[49m\u001B[43m)\u001B[49m\n\u001B[1;32m    580\u001B[0m     \u001B[38;5;28;01mdef\u001B[39;00m \u001B[38;5;21mcompute_should_use_set_data\u001B[39m(tensor, tensor_applied):\n\u001B[1;32m    581\u001B[0m         \u001B[38;5;28;01mif\u001B[39;00m torch\u001B[38;5;241m.\u001B[39m_has_compatible_shallow_copy_type(tensor, tensor_applied):\n\u001B[1;32m    582\u001B[0m             \u001B[38;5;66;03m# If the new tensor has compatible tensor type as the existing tensor,\u001B[39;00m\n\u001B[1;32m    583\u001B[0m             \u001B[38;5;66;03m# the current behavior is to change the tensor in-place using `.data =`,\u001B[39;00m\n\u001B[0;32m   (...)\u001B[0m\n\u001B[1;32m    588\u001B[0m             \u001B[38;5;66;03m# global flag to let the user control whether they want the future\u001B[39;00m\n\u001B[1;32m    589\u001B[0m             \u001B[38;5;66;03m# behavior of overwriting the existing tensor or not.\u001B[39;00m\n",
      "File \u001B[0;32m~/opt/anaconda3/envs/HerdNet310_2/lib/python3.10/site-packages/torch/nn/modules/module.py:578\u001B[0m, in \u001B[0;36mModule._apply\u001B[0;34m(self, fn)\u001B[0m\n\u001B[1;32m    576\u001B[0m \u001B[38;5;28;01mdef\u001B[39;00m \u001B[38;5;21m_apply\u001B[39m(\u001B[38;5;28mself\u001B[39m, fn):\n\u001B[1;32m    577\u001B[0m     \u001B[38;5;28;01mfor\u001B[39;00m module \u001B[38;5;129;01min\u001B[39;00m \u001B[38;5;28mself\u001B[39m\u001B[38;5;241m.\u001B[39mchildren():\n\u001B[0;32m--> 578\u001B[0m         \u001B[43mmodule\u001B[49m\u001B[38;5;241;43m.\u001B[39;49m\u001B[43m_apply\u001B[49m\u001B[43m(\u001B[49m\u001B[43mfn\u001B[49m\u001B[43m)\u001B[49m\n\u001B[1;32m    580\u001B[0m     \u001B[38;5;28;01mdef\u001B[39;00m \u001B[38;5;21mcompute_should_use_set_data\u001B[39m(tensor, tensor_applied):\n\u001B[1;32m    581\u001B[0m         \u001B[38;5;28;01mif\u001B[39;00m torch\u001B[38;5;241m.\u001B[39m_has_compatible_shallow_copy_type(tensor, tensor_applied):\n\u001B[1;32m    582\u001B[0m             \u001B[38;5;66;03m# If the new tensor has compatible tensor type as the existing tensor,\u001B[39;00m\n\u001B[1;32m    583\u001B[0m             \u001B[38;5;66;03m# the current behavior is to change the tensor in-place using `.data =`,\u001B[39;00m\n\u001B[0;32m   (...)\u001B[0m\n\u001B[1;32m    588\u001B[0m             \u001B[38;5;66;03m# global flag to let the user control whether they want the future\u001B[39;00m\n\u001B[1;32m    589\u001B[0m             \u001B[38;5;66;03m# behavior of overwriting the existing tensor or not.\u001B[39;00m\n",
      "    \u001B[0;31m[... skipping similar frames: Module._apply at line 578 (1 times)]\u001B[0m\n",
      "File \u001B[0;32m~/opt/anaconda3/envs/HerdNet310_2/lib/python3.10/site-packages/torch/nn/modules/module.py:578\u001B[0m, in \u001B[0;36mModule._apply\u001B[0;34m(self, fn)\u001B[0m\n\u001B[1;32m    576\u001B[0m \u001B[38;5;28;01mdef\u001B[39;00m \u001B[38;5;21m_apply\u001B[39m(\u001B[38;5;28mself\u001B[39m, fn):\n\u001B[1;32m    577\u001B[0m     \u001B[38;5;28;01mfor\u001B[39;00m module \u001B[38;5;129;01min\u001B[39;00m \u001B[38;5;28mself\u001B[39m\u001B[38;5;241m.\u001B[39mchildren():\n\u001B[0;32m--> 578\u001B[0m         \u001B[43mmodule\u001B[49m\u001B[38;5;241;43m.\u001B[39;49m\u001B[43m_apply\u001B[49m\u001B[43m(\u001B[49m\u001B[43mfn\u001B[49m\u001B[43m)\u001B[49m\n\u001B[1;32m    580\u001B[0m     \u001B[38;5;28;01mdef\u001B[39;00m \u001B[38;5;21mcompute_should_use_set_data\u001B[39m(tensor, tensor_applied):\n\u001B[1;32m    581\u001B[0m         \u001B[38;5;28;01mif\u001B[39;00m torch\u001B[38;5;241m.\u001B[39m_has_compatible_shallow_copy_type(tensor, tensor_applied):\n\u001B[1;32m    582\u001B[0m             \u001B[38;5;66;03m# If the new tensor has compatible tensor type as the existing tensor,\u001B[39;00m\n\u001B[1;32m    583\u001B[0m             \u001B[38;5;66;03m# the current behavior is to change the tensor in-place using `.data =`,\u001B[39;00m\n\u001B[0;32m   (...)\u001B[0m\n\u001B[1;32m    588\u001B[0m             \u001B[38;5;66;03m# global flag to let the user control whether they want the future\u001B[39;00m\n\u001B[1;32m    589\u001B[0m             \u001B[38;5;66;03m# behavior of overwriting the existing tensor or not.\u001B[39;00m\n",
      "File \u001B[0;32m~/opt/anaconda3/envs/HerdNet310_2/lib/python3.10/site-packages/torch/nn/modules/module.py:601\u001B[0m, in \u001B[0;36mModule._apply\u001B[0;34m(self, fn)\u001B[0m\n\u001B[1;32m    597\u001B[0m \u001B[38;5;66;03m# Tensors stored in modules are graph leaves, and we don't want to\u001B[39;00m\n\u001B[1;32m    598\u001B[0m \u001B[38;5;66;03m# track autograd history of `param_applied`, so we have to use\u001B[39;00m\n\u001B[1;32m    599\u001B[0m \u001B[38;5;66;03m# `with torch.no_grad():`\u001B[39;00m\n\u001B[1;32m    600\u001B[0m \u001B[38;5;28;01mwith\u001B[39;00m torch\u001B[38;5;241m.\u001B[39mno_grad():\n\u001B[0;32m--> 601\u001B[0m     param_applied \u001B[38;5;241m=\u001B[39m \u001B[43mfn\u001B[49m\u001B[43m(\u001B[49m\u001B[43mparam\u001B[49m\u001B[43m)\u001B[49m\n\u001B[1;32m    602\u001B[0m should_use_set_data \u001B[38;5;241m=\u001B[39m compute_should_use_set_data(param, param_applied)\n\u001B[1;32m    603\u001B[0m \u001B[38;5;28;01mif\u001B[39;00m should_use_set_data:\n",
      "File \u001B[0;32m~/opt/anaconda3/envs/HerdNet310_2/lib/python3.10/site-packages/torch/nn/modules/module.py:905\u001B[0m, in \u001B[0;36mModule.to.<locals>.convert\u001B[0;34m(t)\u001B[0m\n\u001B[1;32m    902\u001B[0m \u001B[38;5;28;01mif\u001B[39;00m convert_to_format \u001B[38;5;129;01mis\u001B[39;00m \u001B[38;5;129;01mnot\u001B[39;00m \u001B[38;5;28;01mNone\u001B[39;00m \u001B[38;5;129;01mand\u001B[39;00m t\u001B[38;5;241m.\u001B[39mdim() \u001B[38;5;129;01min\u001B[39;00m (\u001B[38;5;241m4\u001B[39m, \u001B[38;5;241m5\u001B[39m):\n\u001B[1;32m    903\u001B[0m     \u001B[38;5;28;01mreturn\u001B[39;00m t\u001B[38;5;241m.\u001B[39mto(device, dtype \u001B[38;5;28;01mif\u001B[39;00m t\u001B[38;5;241m.\u001B[39mis_floating_point() \u001B[38;5;129;01mor\u001B[39;00m t\u001B[38;5;241m.\u001B[39mis_complex() \u001B[38;5;28;01melse\u001B[39;00m \u001B[38;5;28;01mNone\u001B[39;00m,\n\u001B[1;32m    904\u001B[0m                 non_blocking, memory_format\u001B[38;5;241m=\u001B[39mconvert_to_format)\n\u001B[0;32m--> 905\u001B[0m \u001B[38;5;28;01mreturn\u001B[39;00m \u001B[43mt\u001B[49m\u001B[38;5;241;43m.\u001B[39;49m\u001B[43mto\u001B[49m\u001B[43m(\u001B[49m\u001B[43mdevice\u001B[49m\u001B[43m,\u001B[49m\u001B[43m \u001B[49m\u001B[43mdtype\u001B[49m\u001B[43m \u001B[49m\u001B[38;5;28;43;01mif\u001B[39;49;00m\u001B[43m \u001B[49m\u001B[43mt\u001B[49m\u001B[38;5;241;43m.\u001B[39;49m\u001B[43mis_floating_point\u001B[49m\u001B[43m(\u001B[49m\u001B[43m)\u001B[49m\u001B[43m \u001B[49m\u001B[38;5;129;43;01mor\u001B[39;49;00m\u001B[43m \u001B[49m\u001B[43mt\u001B[49m\u001B[38;5;241;43m.\u001B[39;49m\u001B[43mis_complex\u001B[49m\u001B[43m(\u001B[49m\u001B[43m)\u001B[49m\u001B[43m \u001B[49m\u001B[38;5;28;43;01melse\u001B[39;49;00m\u001B[43m \u001B[49m\u001B[38;5;28;43;01mNone\u001B[39;49;00m\u001B[43m,\u001B[49m\u001B[43m \u001B[49m\u001B[43mnon_blocking\u001B[49m\u001B[43m)\u001B[49m\n",
      "File \u001B[0;32m~/opt/anaconda3/envs/HerdNet310_2/lib/python3.10/site-packages/torch/cuda/__init__.py:210\u001B[0m, in \u001B[0;36m_lazy_init\u001B[0;34m()\u001B[0m\n\u001B[1;32m    206\u001B[0m     \u001B[38;5;28;01mraise\u001B[39;00m \u001B[38;5;167;01mRuntimeError\u001B[39;00m(\n\u001B[1;32m    207\u001B[0m         \u001B[38;5;124m\"\u001B[39m\u001B[38;5;124mCannot re-initialize CUDA in forked subprocess. To use CUDA with \u001B[39m\u001B[38;5;124m\"\u001B[39m\n\u001B[1;32m    208\u001B[0m         \u001B[38;5;124m\"\u001B[39m\u001B[38;5;124mmultiprocessing, you must use the \u001B[39m\u001B[38;5;124m'\u001B[39m\u001B[38;5;124mspawn\u001B[39m\u001B[38;5;124m'\u001B[39m\u001B[38;5;124m start method\u001B[39m\u001B[38;5;124m\"\u001B[39m)\n\u001B[1;32m    209\u001B[0m \u001B[38;5;28;01mif\u001B[39;00m \u001B[38;5;129;01mnot\u001B[39;00m \u001B[38;5;28mhasattr\u001B[39m(torch\u001B[38;5;241m.\u001B[39m_C, \u001B[38;5;124m'\u001B[39m\u001B[38;5;124m_cuda_getDeviceCount\u001B[39m\u001B[38;5;124m'\u001B[39m):\n\u001B[0;32m--> 210\u001B[0m     \u001B[38;5;28;01mraise\u001B[39;00m \u001B[38;5;167;01mAssertionError\u001B[39;00m(\u001B[38;5;124m\"\u001B[39m\u001B[38;5;124mTorch not compiled with CUDA enabled\u001B[39m\u001B[38;5;124m\"\u001B[39m)\n\u001B[1;32m    211\u001B[0m \u001B[38;5;28;01mif\u001B[39;00m _cudart \u001B[38;5;129;01mis\u001B[39;00m \u001B[38;5;28;01mNone\u001B[39;00m:\n\u001B[1;32m    212\u001B[0m     \u001B[38;5;28;01mraise\u001B[39;00m \u001B[38;5;167;01mAssertionError\u001B[39;00m(\n\u001B[1;32m    213\u001B[0m         \u001B[38;5;124m\"\u001B[39m\u001B[38;5;124mlibcudart functions unavailable. It looks like you have a broken build?\u001B[39m\u001B[38;5;124m\"\u001B[39m)\n",
      "\u001B[0;31mAssertionError\u001B[0m: Torch not compiled with CUDA enabled"
     ]
    }
   ],
   "source": [
    "from torch.optim import Adam\n",
    "from animaloc.train import Trainer\n",
    "from animaloc.eval import PointsMetrics, HerdNetStitcher, HerdNetEvaluator\n",
    "from animaloc.utils.useful_funcs import mkdir\n",
    "\n",
    "work_dir = '../output'\n",
    "mkdir(work_dir)\n",
    "\n",
    "lr = 1e-4\n",
    "weight_decay = 1e-3\n",
    "epochs = 100\n",
    "\n",
    "optimizer = Adam(params=herdnet.parameters(), lr=lr, weight_decay=weight_decay)\n",
    "\n",
    "metrics = PointsMetrics(radius=20, num_classes=num_classes)\n",
    "\n",
    "stitcher = HerdNetStitcher(\n",
    "    model=herdnet, \n",
    "    size=(patch_size,patch_size), \n",
    "    overlap=160, \n",
    "    down_ratio=down_ratio, \n",
    "    reduction='mean'\n",
    "    )\n",
    "\n",
    "evaluator = HerdNetEvaluator(\n",
    "    model=herdnet, \n",
    "    dataloader=val_dataloader, \n",
    "    metrics=metrics, \n",
    "    stitcher=stitcher, \n",
    "    work_dir=work_dir, \n",
    "    header='validation'\n",
    "    )\n",
    "\n",
    "trainer = Trainer(\n",
    "    model=herdnet,\n",
    "    train_dataloader=train_dataloader,\n",
    "    optimizer=optimizer,\n",
    "    num_epochs=epochs,\n",
    "    evaluator=evaluator,\n",
    "    work_dir=work_dir\n",
    "    )"
   ]
  },
  {
   "cell_type": "markdown",
   "metadata": {
    "id": "axsTtq4WV0ot"
   },
   "source": [
    "## Start training"
   ]
  },
  {
   "cell_type": "code",
   "execution_count": null,
   "metadata": {
    "id": "malFT6r5V4rC"
   },
   "outputs": [],
   "source": [
    "trainer.start(warmup_iters=100, checkpoints='best', select='max', validate_on='f1_score')"
   ]
  },
  {
   "cell_type": "markdown",
   "metadata": {
    "id": "_e0CQd5Bxx5T"
   },
   "source": [
    "## Test the model"
   ]
  },
  {
   "cell_type": "code",
   "execution_count": null,
   "metadata": {
    "id": "D5133GoRz8r_"
   },
   "outputs": [],
   "source": [
    "# Path to your .pth file\n",
    "import gdown\n",
    "\n",
    "pth_path = ''\n",
    "\n",
    "if not pth_path:\n",
    "    gdown.download(\n",
    "        'https://drive.google.com/uc?export=download&id=1-WUnBC4BJMVkNvRqalF_HzA1_pRkQTI_',\n",
    "        '/content/20220413_herdnet_model.pth'\n",
    "        )\n",
    "    pth_path = '/content/20220413_herdnet_model.pth'"
   ]
  },
  {
   "cell_type": "code",
   "execution_count": null,
   "metadata": {
    "id": "VPHXVYWNzVDj"
   },
   "outputs": [],
   "source": [
    "# Create output folder\n",
    "test_dir = '/content/test_output'\n",
    "mkdir(test_dir)"
   ]
  },
  {
   "cell_type": "code",
   "execution_count": null,
   "metadata": {
    "id": "DXUsHk7dzl47"
   },
   "outputs": [],
   "source": [
    "# Load trained parameters\n",
    "from animaloc.models import load_model\n",
    "\n",
    "herdnet = load_model(herdnet, pth_path=pth_path)"
   ]
  },
  {
   "cell_type": "code",
   "execution_count": null,
   "metadata": {
    "id": "lX3Jp883zB-D"
   },
   "outputs": [],
   "source": [
    "# Create an Evaluator\n",
    "test_evaluator = HerdNetEvaluator(\n",
    "    model=herdnet, \n",
    "    dataloader=test_dataloader, \n",
    "    metrics=metrics, \n",
    "    stitcher=stitcher, \n",
    "    work_dir=test_dir, \n",
    "    header='test'\n",
    "    )"
   ]
  },
  {
   "cell_type": "code",
   "execution_count": null,
   "metadata": {
    "id": "CZt_wNle0488"
   },
   "outputs": [],
   "source": [
    "# Start testing\n",
    "test_f1_score = test_evaluator.evaluate(returns='f1_score')"
   ]
  },
  {
   "cell_type": "code",
   "execution_count": null,
   "metadata": {
    "id": "1vICHF-sFGxa"
   },
   "outputs": [],
   "source": [
    "# Print global F1 score (%)\n",
    "print(f\"F1 score = {test_f1_score * 100:0.0f}%\")"
   ]
  },
  {
   "cell_type": "code",
   "execution_count": null,
   "metadata": {
    "id": "ANdn_feR2ZY8"
   },
   "outputs": [],
   "source": [
    "# Get the detections\n",
    "detections = test_evaluator.results\n",
    "detections"
   ]
  }
 ],
 "metadata": {
  "accelerator": "GPU",
  "colab": {
   "authorship_tag": "ABX9TyOEeDjFeLKZlLHdeq13OrD5",
   "provenance": []
  },
  "gpuClass": "standard",
  "kernelspec": {
   "name": "python3",
   "language": "python",
   "display_name": "Python 3 (ipykernel)"
  },
  "language_info": {
   "name": "python"
  }
 },
 "nbformat": 4,
 "nbformat_minor": 0
}
