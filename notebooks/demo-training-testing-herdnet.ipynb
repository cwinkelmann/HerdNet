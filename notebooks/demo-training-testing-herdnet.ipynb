{
 "cells": [
  {
   "cell_type": "markdown",
   "metadata": {
    "id": "tOMmy2YvTHSy"
   },
   "source": [
    "# DEMO - Training and testing HerdNet on nadir aerial images"
   ]
  },
  {
   "cell_type": "markdown",
   "metadata": {
    "id": "_XTpIbRwT9PO"
   },
   "source": [
    "## Installations"
   ]
  },
  {
   "cell_type": "code",
   "execution_count": 1,
   "metadata": {
    "id": "9v5ab5BbSrVl",
    "ExecuteTime": {
     "end_time": "2024-08-13T14:24:33.331979Z",
     "start_time": "2024-08-13T14:24:33.328816Z"
    }
   },
   "outputs": [],
   "source": [
    "# Check GPU\n",
    "# !nvidia-smi"
   ]
  },
  {
   "cell_type": "code",
   "execution_count": 2,
   "metadata": {
    "id": "z9RVoQx5UOkg",
    "ExecuteTime": {
     "end_time": "2024-08-13T14:24:33.344635Z",
     "start_time": "2024-08-13T14:24:33.343109Z"
    }
   },
   "outputs": [],
   "source": [
    "# # Install the dependencies\n",
    "# !pip install albumentations==1.0.3\n",
    "# !pip install fiftyone==0.14.3\n",
    "# !pip install hydra-core==1.1.0\n",
    "# !pip install opencv-python==4.5.1.48\n",
    "# !pip install pandas==1.2.3\n",
    "# !pip install pillow==8.2.0\n",
    "# !pip install scikit-image==0.18.1\n",
    "# !pip install scikit-learn==1.0.2\n",
    "# !pip install scipy==1.6.2\n",
    "# !pip install wandb==0.10.33"
   ]
  },
  {
   "cell_type": "code",
   "execution_count": 3,
   "metadata": {
    "id": "oJydpjxoUGAC",
    "ExecuteTime": {
     "end_time": "2024-08-13T14:24:33.350786Z",
     "start_time": "2024-08-13T14:24:33.347685Z"
    }
   },
   "outputs": [],
   "source": [
    "# Download and install the code\n",
    "import sys\n",
    "# \n",
    "# !git clone https://github.com/Alexandre-Delplanque/HerdNet\n",
    "# !cd '/content/HerdNet' && python setup.py install\n",
    "# \n",
    "# sys.path.append('/content/HerdNet')"
   ]
  },
  {
   "cell_type": "markdown",
   "metadata": {
    "id": "cuxaC9qGVk5S"
   },
   "source": [
    "## Create datasets"
   ]
  },
  {
   "cell_type": "code",
   "execution_count": null,
   "metadata": {
    "id": "0yt06VTPVtsq",
    "is_executing": true,
    "ExecuteTime": {
     "start_time": "2024-08-13T14:26:04.410261Z"
    }
   },
   "outputs": [],
   "source": [
    "# Download some of the data of Delplanque et al. (2021) as an example\n",
    "# !gdown 1CcTAZZJdwrBfCPJtVH6VBU3luGKIN9st -O ./data/data.zip\n",
    "!unzip -oq \"/Users/christian/Library/CloudStorage/GoogleDrive-christian.winkelmann@gmail.com/My Drive/Datasets/HerdNet/data.zip\" -d ../"
   ]
  },
  {
   "cell_type": "code",
   "execution_count": null,
   "metadata": {
    "id": "y1n_cQLFYBsJ",
    "is_executing": true
   },
   "outputs": [],
   "source": [
    "# Set the seed\n",
    "from animaloc.utils.seed import set_seed\n",
    "\n",
    "set_seed(9292)"
   ]
  },
  {
   "cell_type": "code",
   "execution_count": null,
   "metadata": {
    "id": "9tGqtLNG21Jf",
    "is_executing": true
   },
   "outputs": [],
   "source": [
    "# Create validation patches using the patcher tool (for demo)\n",
    "from animaloc.utils.useful_funcs import mkdir\n",
    "\n",
    "mkdir('../data/val_patches')\n",
    "!python ../tools/patcher.py ../data/val 512 512 0 ../data/val_patches -csv ../data/val.csv -min 0.0 -all False"
   ]
  },
  {
   "cell_type": "code",
   "execution_count": 7,
   "metadata": {
    "id": "Bwp4XPR8YNMR",
    "ExecuteTime": {
     "end_time": "2024-08-13T14:24:46.381376Z",
     "start_time": "2024-08-13T14:24:45.733204Z"
    }
   },
   "outputs": [
    {
     "ename": "FileNotFoundError",
     "evalue": "[Errno 2] No such file or directory: '../data/train_patches.csv'",
     "output_type": "error",
     "traceback": [
      "\u001B[0;31m---------------------------------------------------------------------------\u001B[0m",
      "\u001B[0;31mFileNotFoundError\u001B[0m                         Traceback (most recent call last)",
      "Cell \u001B[0;32mIn[7], line 11\u001B[0m\n\u001B[1;32m      8\u001B[0m num_classes \u001B[38;5;241m=\u001B[39m \u001B[38;5;241m7\u001B[39m\n\u001B[1;32m      9\u001B[0m down_ratio \u001B[38;5;241m=\u001B[39m \u001B[38;5;241m2\u001B[39m\n\u001B[0;32m---> 11\u001B[0m train_dataset \u001B[38;5;241m=\u001B[39m \u001B[43mCSVDataset\u001B[49m\u001B[43m(\u001B[49m\n\u001B[1;32m     12\u001B[0m \u001B[43m    \u001B[49m\u001B[43mcsv_file\u001B[49m\u001B[43m \u001B[49m\u001B[38;5;241;43m=\u001B[39;49m\u001B[43m \u001B[49m\u001B[38;5;124;43m'\u001B[39;49m\u001B[38;5;124;43m../data/train_patches.csv\u001B[39;49m\u001B[38;5;124;43m'\u001B[39;49m\u001B[43m,\u001B[49m\n\u001B[1;32m     13\u001B[0m \u001B[43m    \u001B[49m\u001B[43mroot_dir\u001B[49m\u001B[43m \u001B[49m\u001B[38;5;241;43m=\u001B[39;49m\u001B[43m \u001B[49m\u001B[38;5;124;43m'\u001B[39;49m\u001B[38;5;124;43m../data/train_patches\u001B[39;49m\u001B[38;5;124;43m'\u001B[39;49m\u001B[43m,\u001B[49m\n\u001B[1;32m     14\u001B[0m \u001B[43m    \u001B[49m\u001B[43malbu_transforms\u001B[49m\u001B[43m \u001B[49m\u001B[38;5;241;43m=\u001B[39;49m\u001B[43m \u001B[49m\u001B[43m[\u001B[49m\n\u001B[1;32m     15\u001B[0m \u001B[43m        \u001B[49m\u001B[43mA\u001B[49m\u001B[38;5;241;43m.\u001B[39;49m\u001B[43mVerticalFlip\u001B[49m\u001B[43m(\u001B[49m\u001B[43mp\u001B[49m\u001B[38;5;241;43m=\u001B[39;49m\u001B[38;5;241;43m0.5\u001B[39;49m\u001B[43m)\u001B[49m\u001B[43m,\u001B[49m\u001B[43m \u001B[49m\n\u001B[1;32m     16\u001B[0m \u001B[43m        \u001B[49m\u001B[43mA\u001B[49m\u001B[38;5;241;43m.\u001B[39;49m\u001B[43mHorizontalFlip\u001B[49m\u001B[43m(\u001B[49m\u001B[43mp\u001B[49m\u001B[38;5;241;43m=\u001B[39;49m\u001B[38;5;241;43m0.5\u001B[39;49m\u001B[43m)\u001B[49m\u001B[43m,\u001B[49m\n\u001B[1;32m     17\u001B[0m \u001B[43m        \u001B[49m\u001B[43mA\u001B[49m\u001B[38;5;241;43m.\u001B[39;49m\u001B[43mRandomRotate90\u001B[49m\u001B[43m(\u001B[49m\u001B[43mp\u001B[49m\u001B[38;5;241;43m=\u001B[39;49m\u001B[38;5;241;43m0.5\u001B[39;49m\u001B[43m)\u001B[49m\u001B[43m,\u001B[49m\n\u001B[1;32m     18\u001B[0m \u001B[43m        \u001B[49m\u001B[43mA\u001B[49m\u001B[38;5;241;43m.\u001B[39;49m\u001B[43mRandomBrightnessContrast\u001B[49m\u001B[43m(\u001B[49m\u001B[43mbrightness_limit\u001B[49m\u001B[38;5;241;43m=\u001B[39;49m\u001B[38;5;241;43m0.2\u001B[39;49m\u001B[43m,\u001B[49m\u001B[43m \u001B[49m\u001B[43mcontrast_limit\u001B[49m\u001B[38;5;241;43m=\u001B[39;49m\u001B[38;5;241;43m0.2\u001B[39;49m\u001B[43m,\u001B[49m\u001B[43m \u001B[49m\u001B[43mp\u001B[49m\u001B[38;5;241;43m=\u001B[39;49m\u001B[38;5;241;43m0.2\u001B[39;49m\u001B[43m)\u001B[49m\u001B[43m,\u001B[49m\n\u001B[1;32m     19\u001B[0m \u001B[43m        \u001B[49m\u001B[43mA\u001B[49m\u001B[38;5;241;43m.\u001B[39;49m\u001B[43mBlur\u001B[49m\u001B[43m(\u001B[49m\u001B[43mblur_limit\u001B[49m\u001B[38;5;241;43m=\u001B[39;49m\u001B[38;5;241;43m15\u001B[39;49m\u001B[43m,\u001B[49m\u001B[43m \u001B[49m\u001B[43mp\u001B[49m\u001B[38;5;241;43m=\u001B[39;49m\u001B[38;5;241;43m0.2\u001B[39;49m\u001B[43m)\u001B[49m\u001B[43m,\u001B[49m\n\u001B[1;32m     20\u001B[0m \u001B[43m        \u001B[49m\u001B[43mA\u001B[49m\u001B[38;5;241;43m.\u001B[39;49m\u001B[43mNormalize\u001B[49m\u001B[43m(\u001B[49m\u001B[43mp\u001B[49m\u001B[38;5;241;43m=\u001B[39;49m\u001B[38;5;241;43m1.0\u001B[39;49m\u001B[43m)\u001B[49m\n\u001B[1;32m     21\u001B[0m \u001B[43m        \u001B[49m\u001B[43m]\u001B[49m\u001B[43m,\u001B[49m\n\u001B[1;32m     22\u001B[0m \u001B[43m    \u001B[49m\u001B[43mend_transforms\u001B[49m\u001B[43m \u001B[49m\u001B[38;5;241;43m=\u001B[39;49m\u001B[43m \u001B[49m\u001B[43m[\u001B[49m\u001B[43mMultiTransformsWrapper\u001B[49m\u001B[43m(\u001B[49m\u001B[43m[\u001B[49m\n\u001B[1;32m     23\u001B[0m \u001B[43m        \u001B[49m\u001B[43mFIDT\u001B[49m\u001B[43m(\u001B[49m\u001B[43mnum_classes\u001B[49m\u001B[38;5;241;43m=\u001B[39;49m\u001B[43mnum_classes\u001B[49m\u001B[43m,\u001B[49m\u001B[43m \u001B[49m\u001B[43mdown_ratio\u001B[49m\u001B[38;5;241;43m=\u001B[39;49m\u001B[43mdown_ratio\u001B[49m\u001B[43m)\u001B[49m\u001B[43m,\u001B[49m\n\u001B[1;32m     24\u001B[0m \u001B[43m        \u001B[49m\u001B[43mPointsToMask\u001B[49m\u001B[43m(\u001B[49m\u001B[43mradius\u001B[49m\u001B[38;5;241;43m=\u001B[39;49m\u001B[38;5;241;43m2\u001B[39;49m\u001B[43m,\u001B[49m\u001B[43m \u001B[49m\u001B[43mnum_classes\u001B[49m\u001B[38;5;241;43m=\u001B[39;49m\u001B[43mnum_classes\u001B[49m\u001B[43m,\u001B[49m\u001B[43m \u001B[49m\u001B[43msqueeze\u001B[49m\u001B[38;5;241;43m=\u001B[39;49m\u001B[38;5;28;43;01mTrue\u001B[39;49;00m\u001B[43m,\u001B[49m\u001B[43m \u001B[49m\u001B[43mdown_ratio\u001B[49m\u001B[38;5;241;43m=\u001B[39;49m\u001B[38;5;28;43mint\u001B[39;49m\u001B[43m(\u001B[49m\u001B[43mpatch_size\u001B[49m\u001B[38;5;241;43m/\u001B[39;49m\u001B[38;5;241;43m/\u001B[39;49m\u001B[38;5;241;43m16\u001B[39;49m\u001B[43m)\u001B[49m\u001B[43m)\u001B[49m\n\u001B[1;32m     25\u001B[0m \u001B[43m        \u001B[49m\u001B[43m]\u001B[49m\u001B[43m)\u001B[49m\u001B[43m]\u001B[49m\n\u001B[1;32m     26\u001B[0m \u001B[43m    \u001B[49m\u001B[43m)\u001B[49m\n\u001B[1;32m     28\u001B[0m val_dataset \u001B[38;5;241m=\u001B[39m CSVDataset(\n\u001B[1;32m     29\u001B[0m     csv_file \u001B[38;5;241m=\u001B[39m \u001B[38;5;124m'\u001B[39m\u001B[38;5;124m../data/val_patches/gt.csv\u001B[39m\u001B[38;5;124m'\u001B[39m,\n\u001B[1;32m     30\u001B[0m     root_dir \u001B[38;5;241m=\u001B[39m \u001B[38;5;124m'\u001B[39m\u001B[38;5;124m../data/val_patches\u001B[39m\u001B[38;5;124m'\u001B[39m,\n\u001B[1;32m     31\u001B[0m     albu_transforms \u001B[38;5;241m=\u001B[39m [A\u001B[38;5;241m.\u001B[39mNormalize(p\u001B[38;5;241m=\u001B[39m\u001B[38;5;241m1.0\u001B[39m)],\n\u001B[1;32m     32\u001B[0m     end_transforms \u001B[38;5;241m=\u001B[39m [DownSample(down_ratio\u001B[38;5;241m=\u001B[39mdown_ratio, anno_type\u001B[38;5;241m=\u001B[39m\u001B[38;5;124m'\u001B[39m\u001B[38;5;124mpoint\u001B[39m\u001B[38;5;124m'\u001B[39m)]\n\u001B[1;32m     33\u001B[0m     )\n\u001B[1;32m     35\u001B[0m test_dataset \u001B[38;5;241m=\u001B[39m CSVDataset(\n\u001B[1;32m     36\u001B[0m     csv_file \u001B[38;5;241m=\u001B[39m \u001B[38;5;124m'\u001B[39m\u001B[38;5;124m../data/test.csv\u001B[39m\u001B[38;5;124m'\u001B[39m,\n\u001B[1;32m     37\u001B[0m     root_dir \u001B[38;5;241m=\u001B[39m \u001B[38;5;124m'\u001B[39m\u001B[38;5;124m../data/test\u001B[39m\u001B[38;5;124m'\u001B[39m,\n\u001B[1;32m     38\u001B[0m     albu_transforms \u001B[38;5;241m=\u001B[39m [A\u001B[38;5;241m.\u001B[39mNormalize(p\u001B[38;5;241m=\u001B[39m\u001B[38;5;241m1.0\u001B[39m)],\n\u001B[1;32m     39\u001B[0m     end_transforms \u001B[38;5;241m=\u001B[39m [DownSample(down_ratio\u001B[38;5;241m=\u001B[39mdown_ratio, anno_type\u001B[38;5;241m=\u001B[39m\u001B[38;5;124m'\u001B[39m\u001B[38;5;124mpoint\u001B[39m\u001B[38;5;124m'\u001B[39m)]\n\u001B[1;32m     40\u001B[0m     )\n",
      "File \u001B[0;32m~/PycharmProjects/hnee/HerdNet/animaloc/datasets/csv.py:110\u001B[0m, in \u001B[0;36mCSVDataset.__init__\u001B[0;34m(self, csv_file, root_dir, albu_transforms, end_transforms)\u001B[0m\n\u001B[1;32m    107\u001B[0m \u001B[38;5;66;03m# store end parameters for adaloss\u001B[39;00m\n\u001B[1;32m    108\u001B[0m \u001B[38;5;28mself\u001B[39m\u001B[38;5;241m.\u001B[39m_store_end_params()\n\u001B[0;32m--> 110\u001B[0m \u001B[38;5;28mself\u001B[39m\u001B[38;5;241m.\u001B[39mannotations \u001B[38;5;241m=\u001B[39m \u001B[43mAnnotationsFromCSV\u001B[49m\u001B[43m(\u001B[49m\u001B[38;5;28;43mself\u001B[39;49m\u001B[38;5;241;43m.\u001B[39;49m\u001B[43mcsv_file\u001B[49m\u001B[43m)\u001B[49m\n\u001B[1;32m    111\u001B[0m \u001B[38;5;28mself\u001B[39m\u001B[38;5;241m.\u001B[39mdata \u001B[38;5;241m=\u001B[39m \u001B[38;5;28mself\u001B[39m\u001B[38;5;241m.\u001B[39mannotations\u001B[38;5;241m.\u001B[39mdataframe\n\u001B[1;32m    113\u001B[0m \u001B[38;5;28mself\u001B[39m\u001B[38;5;241m.\u001B[39manno_type \u001B[38;5;241m=\u001B[39m \u001B[38;5;28mself\u001B[39m\u001B[38;5;241m.\u001B[39mdata\u001B[38;5;241m.\u001B[39mannos[\u001B[38;5;241m0\u001B[39m]\u001B[38;5;241m.\u001B[39matype\n",
      "File \u001B[0;32m~/PycharmProjects/hnee/HerdNet/animaloc/data/annotations.py:266\u001B[0m, in \u001B[0;36mAnnotationsFromCSV.__init__\u001B[0;34m(self, csv)\u001B[0m\n\u001B[1;32m    264\u001B[0m data_df \u001B[38;5;241m=\u001B[39m csv\n\u001B[1;32m    265\u001B[0m \u001B[38;5;28;01mif\u001B[39;00m \u001B[38;5;28misinstance\u001B[39m(csv, \u001B[38;5;28mstr\u001B[39m):\n\u001B[0;32m--> 266\u001B[0m     data_df \u001B[38;5;241m=\u001B[39m \u001B[43mpandas\u001B[49m\u001B[38;5;241;43m.\u001B[39;49m\u001B[43mread_csv\u001B[49m\u001B[43m(\u001B[49m\u001B[43mcsv\u001B[49m\u001B[43m)\u001B[49m\n\u001B[1;32m    268\u001B[0m \u001B[38;5;28;01massert\u001B[39;00m {\u001B[38;5;124m'\u001B[39m\u001B[38;5;124mimages\u001B[39m\u001B[38;5;124m'\u001B[39m,\u001B[38;5;124m'\u001B[39m\u001B[38;5;124mlabels\u001B[39m\u001B[38;5;124m'\u001B[39m}\u001B[38;5;241m.\u001B[39missubset(data_df\u001B[38;5;241m.\u001B[39mcolumns), \\\n\u001B[1;32m    269\u001B[0m     \u001B[38;5;124m'\u001B[39m\u001B[38;5;124mFile must contain at least images and labels columns name\u001B[39m\u001B[38;5;124m'\u001B[39m\n\u001B[1;32m    271\u001B[0m images \u001B[38;5;241m=\u001B[39m \u001B[38;5;28mlist\u001B[39m(data_df[\u001B[38;5;124m'\u001B[39m\u001B[38;5;124mimages\u001B[39m\u001B[38;5;124m'\u001B[39m])\n",
      "File \u001B[0;32m~/opt/anaconda3/envs/HerdNet310_2/lib/python3.10/site-packages/pandas/io/parsers/readers.py:1026\u001B[0m, in \u001B[0;36mread_csv\u001B[0;34m(filepath_or_buffer, sep, delimiter, header, names, index_col, usecols, dtype, engine, converters, true_values, false_values, skipinitialspace, skiprows, skipfooter, nrows, na_values, keep_default_na, na_filter, verbose, skip_blank_lines, parse_dates, infer_datetime_format, keep_date_col, date_parser, date_format, dayfirst, cache_dates, iterator, chunksize, compression, thousands, decimal, lineterminator, quotechar, quoting, doublequote, escapechar, comment, encoding, encoding_errors, dialect, on_bad_lines, delim_whitespace, low_memory, memory_map, float_precision, storage_options, dtype_backend)\u001B[0m\n\u001B[1;32m   1013\u001B[0m kwds_defaults \u001B[38;5;241m=\u001B[39m _refine_defaults_read(\n\u001B[1;32m   1014\u001B[0m     dialect,\n\u001B[1;32m   1015\u001B[0m     delimiter,\n\u001B[0;32m   (...)\u001B[0m\n\u001B[1;32m   1022\u001B[0m     dtype_backend\u001B[38;5;241m=\u001B[39mdtype_backend,\n\u001B[1;32m   1023\u001B[0m )\n\u001B[1;32m   1024\u001B[0m kwds\u001B[38;5;241m.\u001B[39mupdate(kwds_defaults)\n\u001B[0;32m-> 1026\u001B[0m \u001B[38;5;28;01mreturn\u001B[39;00m \u001B[43m_read\u001B[49m\u001B[43m(\u001B[49m\u001B[43mfilepath_or_buffer\u001B[49m\u001B[43m,\u001B[49m\u001B[43m \u001B[49m\u001B[43mkwds\u001B[49m\u001B[43m)\u001B[49m\n",
      "File \u001B[0;32m~/opt/anaconda3/envs/HerdNet310_2/lib/python3.10/site-packages/pandas/io/parsers/readers.py:620\u001B[0m, in \u001B[0;36m_read\u001B[0;34m(filepath_or_buffer, kwds)\u001B[0m\n\u001B[1;32m    617\u001B[0m _validate_names(kwds\u001B[38;5;241m.\u001B[39mget(\u001B[38;5;124m\"\u001B[39m\u001B[38;5;124mnames\u001B[39m\u001B[38;5;124m\"\u001B[39m, \u001B[38;5;28;01mNone\u001B[39;00m))\n\u001B[1;32m    619\u001B[0m \u001B[38;5;66;03m# Create the parser.\u001B[39;00m\n\u001B[0;32m--> 620\u001B[0m parser \u001B[38;5;241m=\u001B[39m \u001B[43mTextFileReader\u001B[49m\u001B[43m(\u001B[49m\u001B[43mfilepath_or_buffer\u001B[49m\u001B[43m,\u001B[49m\u001B[43m \u001B[49m\u001B[38;5;241;43m*\u001B[39;49m\u001B[38;5;241;43m*\u001B[39;49m\u001B[43mkwds\u001B[49m\u001B[43m)\u001B[49m\n\u001B[1;32m    622\u001B[0m \u001B[38;5;28;01mif\u001B[39;00m chunksize \u001B[38;5;129;01mor\u001B[39;00m iterator:\n\u001B[1;32m    623\u001B[0m     \u001B[38;5;28;01mreturn\u001B[39;00m parser\n",
      "File \u001B[0;32m~/opt/anaconda3/envs/HerdNet310_2/lib/python3.10/site-packages/pandas/io/parsers/readers.py:1620\u001B[0m, in \u001B[0;36mTextFileReader.__init__\u001B[0;34m(self, f, engine, **kwds)\u001B[0m\n\u001B[1;32m   1617\u001B[0m     \u001B[38;5;28mself\u001B[39m\u001B[38;5;241m.\u001B[39moptions[\u001B[38;5;124m\"\u001B[39m\u001B[38;5;124mhas_index_names\u001B[39m\u001B[38;5;124m\"\u001B[39m] \u001B[38;5;241m=\u001B[39m kwds[\u001B[38;5;124m\"\u001B[39m\u001B[38;5;124mhas_index_names\u001B[39m\u001B[38;5;124m\"\u001B[39m]\n\u001B[1;32m   1619\u001B[0m \u001B[38;5;28mself\u001B[39m\u001B[38;5;241m.\u001B[39mhandles: IOHandles \u001B[38;5;241m|\u001B[39m \u001B[38;5;28;01mNone\u001B[39;00m \u001B[38;5;241m=\u001B[39m \u001B[38;5;28;01mNone\u001B[39;00m\n\u001B[0;32m-> 1620\u001B[0m \u001B[38;5;28mself\u001B[39m\u001B[38;5;241m.\u001B[39m_engine \u001B[38;5;241m=\u001B[39m \u001B[38;5;28;43mself\u001B[39;49m\u001B[38;5;241;43m.\u001B[39;49m\u001B[43m_make_engine\u001B[49m\u001B[43m(\u001B[49m\u001B[43mf\u001B[49m\u001B[43m,\u001B[49m\u001B[43m \u001B[49m\u001B[38;5;28;43mself\u001B[39;49m\u001B[38;5;241;43m.\u001B[39;49m\u001B[43mengine\u001B[49m\u001B[43m)\u001B[49m\n",
      "File \u001B[0;32m~/opt/anaconda3/envs/HerdNet310_2/lib/python3.10/site-packages/pandas/io/parsers/readers.py:1880\u001B[0m, in \u001B[0;36mTextFileReader._make_engine\u001B[0;34m(self, f, engine)\u001B[0m\n\u001B[1;32m   1878\u001B[0m     \u001B[38;5;28;01mif\u001B[39;00m \u001B[38;5;124m\"\u001B[39m\u001B[38;5;124mb\u001B[39m\u001B[38;5;124m\"\u001B[39m \u001B[38;5;129;01mnot\u001B[39;00m \u001B[38;5;129;01min\u001B[39;00m mode:\n\u001B[1;32m   1879\u001B[0m         mode \u001B[38;5;241m+\u001B[39m\u001B[38;5;241m=\u001B[39m \u001B[38;5;124m\"\u001B[39m\u001B[38;5;124mb\u001B[39m\u001B[38;5;124m\"\u001B[39m\n\u001B[0;32m-> 1880\u001B[0m \u001B[38;5;28mself\u001B[39m\u001B[38;5;241m.\u001B[39mhandles \u001B[38;5;241m=\u001B[39m \u001B[43mget_handle\u001B[49m\u001B[43m(\u001B[49m\n\u001B[1;32m   1881\u001B[0m \u001B[43m    \u001B[49m\u001B[43mf\u001B[49m\u001B[43m,\u001B[49m\n\u001B[1;32m   1882\u001B[0m \u001B[43m    \u001B[49m\u001B[43mmode\u001B[49m\u001B[43m,\u001B[49m\n\u001B[1;32m   1883\u001B[0m \u001B[43m    \u001B[49m\u001B[43mencoding\u001B[49m\u001B[38;5;241;43m=\u001B[39;49m\u001B[38;5;28;43mself\u001B[39;49m\u001B[38;5;241;43m.\u001B[39;49m\u001B[43moptions\u001B[49m\u001B[38;5;241;43m.\u001B[39;49m\u001B[43mget\u001B[49m\u001B[43m(\u001B[49m\u001B[38;5;124;43m\"\u001B[39;49m\u001B[38;5;124;43mencoding\u001B[39;49m\u001B[38;5;124;43m\"\u001B[39;49m\u001B[43m,\u001B[49m\u001B[43m \u001B[49m\u001B[38;5;28;43;01mNone\u001B[39;49;00m\u001B[43m)\u001B[49m\u001B[43m,\u001B[49m\n\u001B[1;32m   1884\u001B[0m \u001B[43m    \u001B[49m\u001B[43mcompression\u001B[49m\u001B[38;5;241;43m=\u001B[39;49m\u001B[38;5;28;43mself\u001B[39;49m\u001B[38;5;241;43m.\u001B[39;49m\u001B[43moptions\u001B[49m\u001B[38;5;241;43m.\u001B[39;49m\u001B[43mget\u001B[49m\u001B[43m(\u001B[49m\u001B[38;5;124;43m\"\u001B[39;49m\u001B[38;5;124;43mcompression\u001B[39;49m\u001B[38;5;124;43m\"\u001B[39;49m\u001B[43m,\u001B[49m\u001B[43m \u001B[49m\u001B[38;5;28;43;01mNone\u001B[39;49;00m\u001B[43m)\u001B[49m\u001B[43m,\u001B[49m\n\u001B[1;32m   1885\u001B[0m \u001B[43m    \u001B[49m\u001B[43mmemory_map\u001B[49m\u001B[38;5;241;43m=\u001B[39;49m\u001B[38;5;28;43mself\u001B[39;49m\u001B[38;5;241;43m.\u001B[39;49m\u001B[43moptions\u001B[49m\u001B[38;5;241;43m.\u001B[39;49m\u001B[43mget\u001B[49m\u001B[43m(\u001B[49m\u001B[38;5;124;43m\"\u001B[39;49m\u001B[38;5;124;43mmemory_map\u001B[39;49m\u001B[38;5;124;43m\"\u001B[39;49m\u001B[43m,\u001B[49m\u001B[43m \u001B[49m\u001B[38;5;28;43;01mFalse\u001B[39;49;00m\u001B[43m)\u001B[49m\u001B[43m,\u001B[49m\n\u001B[1;32m   1886\u001B[0m \u001B[43m    \u001B[49m\u001B[43mis_text\u001B[49m\u001B[38;5;241;43m=\u001B[39;49m\u001B[43mis_text\u001B[49m\u001B[43m,\u001B[49m\n\u001B[1;32m   1887\u001B[0m \u001B[43m    \u001B[49m\u001B[43merrors\u001B[49m\u001B[38;5;241;43m=\u001B[39;49m\u001B[38;5;28;43mself\u001B[39;49m\u001B[38;5;241;43m.\u001B[39;49m\u001B[43moptions\u001B[49m\u001B[38;5;241;43m.\u001B[39;49m\u001B[43mget\u001B[49m\u001B[43m(\u001B[49m\u001B[38;5;124;43m\"\u001B[39;49m\u001B[38;5;124;43mencoding_errors\u001B[39;49m\u001B[38;5;124;43m\"\u001B[39;49m\u001B[43m,\u001B[49m\u001B[43m \u001B[49m\u001B[38;5;124;43m\"\u001B[39;49m\u001B[38;5;124;43mstrict\u001B[39;49m\u001B[38;5;124;43m\"\u001B[39;49m\u001B[43m)\u001B[49m\u001B[43m,\u001B[49m\n\u001B[1;32m   1888\u001B[0m \u001B[43m    \u001B[49m\u001B[43mstorage_options\u001B[49m\u001B[38;5;241;43m=\u001B[39;49m\u001B[38;5;28;43mself\u001B[39;49m\u001B[38;5;241;43m.\u001B[39;49m\u001B[43moptions\u001B[49m\u001B[38;5;241;43m.\u001B[39;49m\u001B[43mget\u001B[49m\u001B[43m(\u001B[49m\u001B[38;5;124;43m\"\u001B[39;49m\u001B[38;5;124;43mstorage_options\u001B[39;49m\u001B[38;5;124;43m\"\u001B[39;49m\u001B[43m,\u001B[49m\u001B[43m \u001B[49m\u001B[38;5;28;43;01mNone\u001B[39;49;00m\u001B[43m)\u001B[49m\u001B[43m,\u001B[49m\n\u001B[1;32m   1889\u001B[0m \u001B[43m\u001B[49m\u001B[43m)\u001B[49m\n\u001B[1;32m   1890\u001B[0m \u001B[38;5;28;01massert\u001B[39;00m \u001B[38;5;28mself\u001B[39m\u001B[38;5;241m.\u001B[39mhandles \u001B[38;5;129;01mis\u001B[39;00m \u001B[38;5;129;01mnot\u001B[39;00m \u001B[38;5;28;01mNone\u001B[39;00m\n\u001B[1;32m   1891\u001B[0m f \u001B[38;5;241m=\u001B[39m \u001B[38;5;28mself\u001B[39m\u001B[38;5;241m.\u001B[39mhandles\u001B[38;5;241m.\u001B[39mhandle\n",
      "File \u001B[0;32m~/opt/anaconda3/envs/HerdNet310_2/lib/python3.10/site-packages/pandas/io/common.py:873\u001B[0m, in \u001B[0;36mget_handle\u001B[0;34m(path_or_buf, mode, encoding, compression, memory_map, is_text, errors, storage_options)\u001B[0m\n\u001B[1;32m    868\u001B[0m \u001B[38;5;28;01melif\u001B[39;00m \u001B[38;5;28misinstance\u001B[39m(handle, \u001B[38;5;28mstr\u001B[39m):\n\u001B[1;32m    869\u001B[0m     \u001B[38;5;66;03m# Check whether the filename is to be opened in binary mode.\u001B[39;00m\n\u001B[1;32m    870\u001B[0m     \u001B[38;5;66;03m# Binary mode does not support 'encoding' and 'newline'.\u001B[39;00m\n\u001B[1;32m    871\u001B[0m     \u001B[38;5;28;01mif\u001B[39;00m ioargs\u001B[38;5;241m.\u001B[39mencoding \u001B[38;5;129;01mand\u001B[39;00m \u001B[38;5;124m\"\u001B[39m\u001B[38;5;124mb\u001B[39m\u001B[38;5;124m\"\u001B[39m \u001B[38;5;129;01mnot\u001B[39;00m \u001B[38;5;129;01min\u001B[39;00m ioargs\u001B[38;5;241m.\u001B[39mmode:\n\u001B[1;32m    872\u001B[0m         \u001B[38;5;66;03m# Encoding\u001B[39;00m\n\u001B[0;32m--> 873\u001B[0m         handle \u001B[38;5;241m=\u001B[39m \u001B[38;5;28;43mopen\u001B[39;49m\u001B[43m(\u001B[49m\n\u001B[1;32m    874\u001B[0m \u001B[43m            \u001B[49m\u001B[43mhandle\u001B[49m\u001B[43m,\u001B[49m\n\u001B[1;32m    875\u001B[0m \u001B[43m            \u001B[49m\u001B[43mioargs\u001B[49m\u001B[38;5;241;43m.\u001B[39;49m\u001B[43mmode\u001B[49m\u001B[43m,\u001B[49m\n\u001B[1;32m    876\u001B[0m \u001B[43m            \u001B[49m\u001B[43mencoding\u001B[49m\u001B[38;5;241;43m=\u001B[39;49m\u001B[43mioargs\u001B[49m\u001B[38;5;241;43m.\u001B[39;49m\u001B[43mencoding\u001B[49m\u001B[43m,\u001B[49m\n\u001B[1;32m    877\u001B[0m \u001B[43m            \u001B[49m\u001B[43merrors\u001B[49m\u001B[38;5;241;43m=\u001B[39;49m\u001B[43merrors\u001B[49m\u001B[43m,\u001B[49m\n\u001B[1;32m    878\u001B[0m \u001B[43m            \u001B[49m\u001B[43mnewline\u001B[49m\u001B[38;5;241;43m=\u001B[39;49m\u001B[38;5;124;43m\"\u001B[39;49m\u001B[38;5;124;43m\"\u001B[39;49m\u001B[43m,\u001B[49m\n\u001B[1;32m    879\u001B[0m \u001B[43m        \u001B[49m\u001B[43m)\u001B[49m\n\u001B[1;32m    880\u001B[0m     \u001B[38;5;28;01melse\u001B[39;00m:\n\u001B[1;32m    881\u001B[0m         \u001B[38;5;66;03m# Binary mode\u001B[39;00m\n\u001B[1;32m    882\u001B[0m         handle \u001B[38;5;241m=\u001B[39m \u001B[38;5;28mopen\u001B[39m(handle, ioargs\u001B[38;5;241m.\u001B[39mmode)\n",
      "\u001B[0;31mFileNotFoundError\u001B[0m: [Errno 2] No such file or directory: '../data/train_patches.csv'"
     ]
    }
   ],
   "source": [
    "# Training, validation and test datasets\n",
    "import albumentations as A\n",
    "\n",
    "from animaloc.datasets import CSVDataset\n",
    "from animaloc.data.transforms import MultiTransformsWrapper, DownSample, PointsToMask, FIDT\n",
    "\n",
    "patch_size = 512\n",
    "num_classes = 7\n",
    "down_ratio = 2\n",
    "\n",
    "train_dataset = CSVDataset(\n",
    "    csv_file = '../data/train_patches.csv',\n",
    "    root_dir = '../data/train_patches',\n",
    "    albu_transforms = [\n",
    "        A.VerticalFlip(p=0.5), \n",
    "        A.HorizontalFlip(p=0.5),\n",
    "        A.RandomRotate90(p=0.5),\n",
    "        A.RandomBrightnessContrast(brightness_limit=0.2, contrast_limit=0.2, p=0.2),\n",
    "        A.Blur(blur_limit=15, p=0.2),\n",
    "        A.Normalize(p=1.0)\n",
    "        ],\n",
    "    end_transforms = [MultiTransformsWrapper([\n",
    "        FIDT(num_classes=num_classes, down_ratio=down_ratio),\n",
    "        PointsToMask(radius=2, num_classes=num_classes, squeeze=True, down_ratio=int(patch_size//16))\n",
    "        ])]\n",
    "    )\n",
    "\n",
    "val_dataset = CSVDataset(\n",
    "    csv_file = '../data/val_patches/gt.csv',\n",
    "    root_dir = '../data/val_patches',\n",
    "    albu_transforms = [A.Normalize(p=1.0)],\n",
    "    end_transforms = [DownSample(down_ratio=down_ratio, anno_type='point')]\n",
    "    )\n",
    "\n",
    "test_dataset = CSVDataset(\n",
    "    csv_file = '../data/test.csv',\n",
    "    root_dir = '../data/test',\n",
    "    albu_transforms = [A.Normalize(p=1.0)],\n",
    "    end_transforms = [DownSample(down_ratio=down_ratio, anno_type='point')]\n",
    "    )"
   ]
  },
  {
   "cell_type": "code",
   "execution_count": null,
   "metadata": {
    "id": "lR1W5NVFYhiZ",
    "ExecuteTime": {
     "end_time": "2024-08-13T14:24:46.383377Z",
     "start_time": "2024-08-13T14:24:46.383280Z"
    }
   },
   "outputs": [],
   "source": [
    "# Dataloaders\n",
    "from torch.utils.data import DataLoader\n",
    "\n",
    "train_dataloader = DataLoader(dataset = train_dataset, batch_size = 4, shuffle = True)\n",
    "\n",
    "val_dataloader = DataLoader(dataset = val_dataset, batch_size = 1, shuffle = False)\n",
    "\n",
    "test_dataloader = DataLoader(dataset = test_dataset, batch_size = 1, shuffle = False)"
   ]
  },
  {
   "cell_type": "markdown",
   "metadata": {
    "id": "emWQUMq2Vwpj"
   },
   "source": [
    "## Define HerdNet for training"
   ]
  },
  {
   "cell_type": "code",
   "execution_count": null,
   "metadata": {
    "id": "JIBKygFlV0V1"
   },
   "outputs": [],
   "source": [
    "from animaloc.models import HerdNet\n",
    "from torch import Tensor\n",
    "from animaloc.models import LossWrapper\n",
    "from animaloc.train.losses import FocalLoss\n",
    "from torch.nn import CrossEntropyLoss\n",
    "\n",
    "herdnet = HerdNet(num_classes=num_classes, down_ratio=down_ratio).cuda()\n",
    "\n",
    "weight = Tensor([0.1, 1.0, 2.0, 1.0, 6.0, 12.0, 1.0]).cuda()\n",
    "\n",
    "losses = [\n",
    "    {'loss': FocalLoss(reduction='mean'), 'idx': 0, 'idy': 0, 'lambda': 1.0, 'name': 'focal_loss'},\n",
    "    {'loss': CrossEntropyLoss(reduction='mean', weight=weight), 'idx': 1, 'idy': 1, 'lambda': 1.0, 'name': 'ce_loss'}\n",
    "    ]\n",
    "\n",
    "herdnet = LossWrapper(herdnet, losses=losses)"
   ]
  },
  {
   "cell_type": "markdown",
   "metadata": {
    "id": "Nm5u6yg4V78C"
   },
   "source": [
    "## Create the Trainer"
   ]
  },
  {
   "cell_type": "code",
   "execution_count": null,
   "metadata": {
    "id": "MSBimwtzWDZp"
   },
   "outputs": [],
   "source": [
    "from torch.optim import Adam\n",
    "from animaloc.train import Trainer\n",
    "from animaloc.eval import PointsMetrics, HerdNetStitcher, HerdNetEvaluator\n",
    "from animaloc.utils.useful_funcs import mkdir\n",
    "\n",
    "work_dir = '/content/output'\n",
    "mkdir(work_dir)\n",
    "\n",
    "lr = 1e-4\n",
    "weight_decay = 1e-3\n",
    "epochs = 100\n",
    "\n",
    "optimizer = Adam(params=herdnet.parameters(), lr=lr, weight_decay=weight_decay)\n",
    "\n",
    "metrics = PointsMetrics(radius=20, num_classes=num_classes)\n",
    "\n",
    "stitcher = HerdNetStitcher(\n",
    "    model=herdnet, \n",
    "    size=(patch_size,patch_size), \n",
    "    overlap=160, \n",
    "    down_ratio=down_ratio, \n",
    "    reduction='mean'\n",
    "    )\n",
    "\n",
    "evaluator = HerdNetEvaluator(\n",
    "    model=herdnet, \n",
    "    dataloader=val_dataloader, \n",
    "    metrics=metrics, \n",
    "    stitcher=stitcher, \n",
    "    work_dir=work_dir, \n",
    "    header='validation'\n",
    "    )\n",
    "\n",
    "trainer = Trainer(\n",
    "    model=herdnet,\n",
    "    train_dataloader=train_dataloader,\n",
    "    optimizer=optimizer,\n",
    "    num_epochs=epochs,\n",
    "    evaluator=evaluator,\n",
    "    work_dir=work_dir\n",
    "    )"
   ]
  },
  {
   "cell_type": "markdown",
   "metadata": {
    "id": "axsTtq4WV0ot"
   },
   "source": [
    "## Start training"
   ]
  },
  {
   "cell_type": "code",
   "execution_count": null,
   "metadata": {
    "id": "malFT6r5V4rC"
   },
   "outputs": [],
   "source": [
    "trainer.start(warmup_iters=100, checkpoints='best', select='max', validate_on='f1_score')"
   ]
  },
  {
   "cell_type": "markdown",
   "metadata": {
    "id": "_e0CQd5Bxx5T"
   },
   "source": [
    "## Test the model"
   ]
  },
  {
   "cell_type": "code",
   "execution_count": null,
   "metadata": {
    "id": "D5133GoRz8r_"
   },
   "outputs": [],
   "source": [
    "# Path to your .pth file\n",
    "import gdown\n",
    "\n",
    "pth_path = ''\n",
    "\n",
    "if not pth_path:\n",
    "    gdown.download(\n",
    "        'https://drive.google.com/uc?export=download&id=1-WUnBC4BJMVkNvRqalF_HzA1_pRkQTI_',\n",
    "        '/content/20220413_herdnet_model.pth'\n",
    "        )\n",
    "    pth_path = '/content/20220413_herdnet_model.pth'"
   ]
  },
  {
   "cell_type": "code",
   "execution_count": null,
   "metadata": {
    "id": "VPHXVYWNzVDj"
   },
   "outputs": [],
   "source": [
    "# Create output folder\n",
    "test_dir = '/content/test_output'\n",
    "mkdir(test_dir)"
   ]
  },
  {
   "cell_type": "code",
   "execution_count": null,
   "metadata": {
    "id": "DXUsHk7dzl47"
   },
   "outputs": [],
   "source": [
    "# Load trained parameters\n",
    "from animaloc.models import load_model\n",
    "\n",
    "herdnet = load_model(herdnet, pth_path=pth_path)"
   ]
  },
  {
   "cell_type": "code",
   "execution_count": null,
   "metadata": {
    "id": "lX3Jp883zB-D"
   },
   "outputs": [],
   "source": [
    "# Create an Evaluator\n",
    "test_evaluator = HerdNetEvaluator(\n",
    "    model=herdnet, \n",
    "    dataloader=test_dataloader, \n",
    "    metrics=metrics, \n",
    "    stitcher=stitcher, \n",
    "    work_dir=test_dir, \n",
    "    header='test'\n",
    "    )"
   ]
  },
  {
   "cell_type": "code",
   "execution_count": null,
   "metadata": {
    "id": "CZt_wNle0488"
   },
   "outputs": [],
   "source": [
    "# Start testing\n",
    "test_f1_score = test_evaluator.evaluate(returns='f1_score')"
   ]
  },
  {
   "cell_type": "code",
   "execution_count": null,
   "metadata": {
    "id": "1vICHF-sFGxa"
   },
   "outputs": [],
   "source": [
    "# Print global F1 score (%)\n",
    "print(f\"F1 score = {test_f1_score * 100:0.0f}%\")"
   ]
  },
  {
   "cell_type": "code",
   "execution_count": null,
   "metadata": {
    "id": "ANdn_feR2ZY8"
   },
   "outputs": [],
   "source": [
    "# Get the detections\n",
    "detections = test_evaluator.results\n",
    "detections"
   ]
  }
 ],
 "metadata": {
  "accelerator": "GPU",
  "colab": {
   "authorship_tag": "ABX9TyOEeDjFeLKZlLHdeq13OrD5",
   "provenance": []
  },
  "gpuClass": "standard",
  "kernelspec": {
   "name": "python3",
   "language": "python",
   "display_name": "Python 3 (ipykernel)"
  },
  "language_info": {
   "name": "python"
  }
 },
 "nbformat": 4,
 "nbformat_minor": 0
}
